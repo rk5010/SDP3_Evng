{
 "cells": [
  {
   "cell_type": "code",
   "execution_count": 1,
   "id": "bc9d4a41",
   "metadata": {},
   "outputs": [],
   "source": [
    "# Importing the libraries \n",
    "\n",
    "import pandas as pd\n",
    "import numpy as np \n",
    "import matplotlib.pyplot as plt\n",
    "import seaborn as sns"
   ]
  },
  {
   "cell_type": "code",
   "execution_count": 2,
   "id": "418ea267",
   "metadata": {},
   "outputs": [],
   "source": [
    "# Ignore harmless warnings \n",
    "\n",
    "import warnings \n",
    "warnings.filterwarnings(\"ignore\")"
   ]
  },
  {
   "cell_type": "code",
   "execution_count": 3,
   "id": "b9221e1d",
   "metadata": {},
   "outputs": [],
   "source": [
    "# Set to display all the columns in dataset\n",
    "\n",
    "pd.set_option(\"display.max_columns\", None)"
   ]
  },
  {
   "cell_type": "code",
   "execution_count": 4,
   "id": "03698c82",
   "metadata": {},
   "outputs": [],
   "source": [
    "# Import psql to run queries \n",
    "\n",
    "import pandasql as psql"
   ]
  },
  {
   "cell_type": "code",
   "execution_count": 5,
   "id": "85f3c4e0",
   "metadata": {},
   "outputs": [],
   "source": [
    "# load the Health Insurance dataset \n",
    "\n",
    "HealthIns = pd.read_csv(r\"Health_Ins_Expenses.csv\", header=0)"
   ]
  },
  {
   "cell_type": "code",
   "execution_count": 6,
   "id": "53da887f",
   "metadata": {},
   "outputs": [],
   "source": [
    "# Copy to back-up file\n",
    "\n",
    "HealthIns_BK = HealthIns.copy()"
   ]
  },
  {
   "cell_type": "code",
   "execution_count": 7,
   "id": "08ed0067",
   "metadata": {},
   "outputs": [
    {
     "data": {
      "text/html": [
       "<div>\n",
       "<style scoped>\n",
       "    .dataframe tbody tr th:only-of-type {\n",
       "        vertical-align: middle;\n",
       "    }\n",
       "\n",
       "    .dataframe tbody tr th {\n",
       "        vertical-align: top;\n",
       "    }\n",
       "\n",
       "    .dataframe thead th {\n",
       "        text-align: right;\n",
       "    }\n",
       "</style>\n",
       "<table border=\"1\" class=\"dataframe\">\n",
       "  <thead>\n",
       "    <tr style=\"text-align: right;\">\n",
       "      <th></th>\n",
       "      <th>Record_ID</th>\n",
       "      <th>Age</th>\n",
       "      <th>Gender</th>\n",
       "      <th>BMI</th>\n",
       "      <th>Children</th>\n",
       "      <th>Smoker</th>\n",
       "      <th>Region</th>\n",
       "      <th>Expenses</th>\n",
       "    </tr>\n",
       "  </thead>\n",
       "  <tbody>\n",
       "    <tr>\n",
       "      <th>0</th>\n",
       "      <td>QK-136276906</td>\n",
       "      <td>43</td>\n",
       "      <td>male</td>\n",
       "      <td>36.25</td>\n",
       "      <td>1</td>\n",
       "      <td>yes</td>\n",
       "      <td>southeast</td>\n",
       "      <td>40293.04</td>\n",
       "    </tr>\n",
       "    <tr>\n",
       "      <th>1</th>\n",
       "      <td>NR-126120553</td>\n",
       "      <td>40</td>\n",
       "      <td>male</td>\n",
       "      <td>34.56</td>\n",
       "      <td>2</td>\n",
       "      <td>no</td>\n",
       "      <td>southeast</td>\n",
       "      <td>23569.63</td>\n",
       "    </tr>\n",
       "    <tr>\n",
       "      <th>2</th>\n",
       "      <td>HY-182936067</td>\n",
       "      <td>48</td>\n",
       "      <td>male</td>\n",
       "      <td>26.04</td>\n",
       "      <td>5</td>\n",
       "      <td>no</td>\n",
       "      <td>southwest</td>\n",
       "      <td>10115.35</td>\n",
       "    </tr>\n",
       "    <tr>\n",
       "      <th>3</th>\n",
       "      <td>HF-142445422</td>\n",
       "      <td>50</td>\n",
       "      <td>male</td>\n",
       "      <td>31.09</td>\n",
       "      <td>3</td>\n",
       "      <td>yes</td>\n",
       "      <td>northwest</td>\n",
       "      <td>40736.57</td>\n",
       "    </tr>\n",
       "    <tr>\n",
       "      <th>4</th>\n",
       "      <td>NM-183693148</td>\n",
       "      <td>42</td>\n",
       "      <td>male</td>\n",
       "      <td>33.04</td>\n",
       "      <td>1</td>\n",
       "      <td>yes</td>\n",
       "      <td>northeast</td>\n",
       "      <td>39144.85</td>\n",
       "    </tr>\n",
       "  </tbody>\n",
       "</table>\n",
       "</div>"
      ],
      "text/plain": [
       "      Record_ID  Age Gender    BMI  Children Smoker     Region  Expenses\n",
       "0  QK-136276906   43   male  36.25         1    yes  southeast  40293.04\n",
       "1  NR-126120553   40   male  34.56         2     no  southeast  23569.63\n",
       "2  HY-182936067   48   male  26.04         5     no  southwest  10115.35\n",
       "3  HF-142445422   50   male  31.09         3    yes  northwest  40736.57\n",
       "4  NM-183693148   42   male  33.04         1    yes  northeast  39144.85"
      ]
     },
     "execution_count": 7,
     "metadata": {},
     "output_type": "execute_result"
    }
   ],
   "source": [
    "# Display the first 5 records\n",
    "\n",
    "HealthIns.head()"
   ]
  },
  {
   "cell_type": "code",
   "execution_count": 8,
   "id": "7e468d41",
   "metadata": {},
   "outputs": [
    {
     "name": "stdout",
     "output_type": "stream",
     "text": [
      "<class 'pandas.core.frame.DataFrame'>\n",
      "RangeIndex: 6695 entries, 0 to 6694\n",
      "Data columns (total 8 columns):\n",
      " #   Column     Non-Null Count  Dtype  \n",
      "---  ------     --------------  -----  \n",
      " 0   Record_ID  6695 non-null   object \n",
      " 1   Age        6695 non-null   int64  \n",
      " 2   Gender     6695 non-null   object \n",
      " 3   BMI        6695 non-null   float64\n",
      " 4   Children   6695 non-null   int64  \n",
      " 5   Smoker     6695 non-null   object \n",
      " 6   Region     6695 non-null   object \n",
      " 7   Expenses   6695 non-null   float64\n",
      "dtypes: float64(2), int64(2), object(4)\n",
      "memory usage: 418.6+ KB\n"
     ]
    }
   ],
   "source": [
    "# Display the dataset information\n",
    "\n",
    "HealthIns.info()"
   ]
  },
  {
   "cell_type": "code",
   "execution_count": 9,
   "id": "df69ad48",
   "metadata": {},
   "outputs": [],
   "source": [
    "# Displaying Duplicate values with in dataset\n",
    "\n",
    "HealthIns_dup = HealthIns[HealthIns.duplicated(keep='last')]"
   ]
  },
  {
   "cell_type": "code",
   "execution_count": 10,
   "id": "e7a00704",
   "metadata": {},
   "outputs": [
    {
     "data": {
      "text/html": [
       "<div>\n",
       "<style scoped>\n",
       "    .dataframe tbody tr th:only-of-type {\n",
       "        vertical-align: middle;\n",
       "    }\n",
       "\n",
       "    .dataframe tbody tr th {\n",
       "        vertical-align: top;\n",
       "    }\n",
       "\n",
       "    .dataframe thead th {\n",
       "        text-align: right;\n",
       "    }\n",
       "</style>\n",
       "<table border=\"1\" class=\"dataframe\">\n",
       "  <thead>\n",
       "    <tr style=\"text-align: right;\">\n",
       "      <th></th>\n",
       "      <th>Record_ID</th>\n",
       "      <th>Age</th>\n",
       "      <th>Gender</th>\n",
       "      <th>BMI</th>\n",
       "      <th>Children</th>\n",
       "      <th>Smoker</th>\n",
       "      <th>Region</th>\n",
       "      <th>Expenses</th>\n",
       "    </tr>\n",
       "  </thead>\n",
       "  <tbody>\n",
       "    <tr>\n",
       "      <th>240</th>\n",
       "      <td>ZZ-131148293</td>\n",
       "      <td>22</td>\n",
       "      <td>female</td>\n",
       "      <td>24.73</td>\n",
       "      <td>1</td>\n",
       "      <td>no</td>\n",
       "      <td>southeast</td>\n",
       "      <td>2216.02</td>\n",
       "    </tr>\n",
       "    <tr>\n",
       "      <th>241</th>\n",
       "      <td>BQ-160063838</td>\n",
       "      <td>21</td>\n",
       "      <td>female</td>\n",
       "      <td>37.40</td>\n",
       "      <td>0</td>\n",
       "      <td>no</td>\n",
       "      <td>southeast</td>\n",
       "      <td>1634.08</td>\n",
       "    </tr>\n",
       "    <tr>\n",
       "      <th>242</th>\n",
       "      <td>UO-189044287</td>\n",
       "      <td>57</td>\n",
       "      <td>male</td>\n",
       "      <td>43.70</td>\n",
       "      <td>1</td>\n",
       "      <td>no</td>\n",
       "      <td>southwest</td>\n",
       "      <td>11576.13</td>\n",
       "    </tr>\n",
       "    <tr>\n",
       "      <th>246</th>\n",
       "      <td>OT-130753432</td>\n",
       "      <td>41</td>\n",
       "      <td>female</td>\n",
       "      <td>30.18</td>\n",
       "      <td>1</td>\n",
       "      <td>no</td>\n",
       "      <td>southeast</td>\n",
       "      <td>6515.36</td>\n",
       "    </tr>\n",
       "    <tr>\n",
       "      <th>247</th>\n",
       "      <td>BH-153144132</td>\n",
       "      <td>50</td>\n",
       "      <td>male</td>\n",
       "      <td>36.20</td>\n",
       "      <td>0</td>\n",
       "      <td>no</td>\n",
       "      <td>southwest</td>\n",
       "      <td>8457.82</td>\n",
       "    </tr>\n",
       "  </tbody>\n",
       "</table>\n",
       "</div>"
      ],
      "text/plain": [
       "        Record_ID  Age  Gender    BMI  Children Smoker     Region  Expenses\n",
       "240  ZZ-131148293   22  female  24.73         1     no  southeast   2216.02\n",
       "241  BQ-160063838   21  female  37.40         0     no  southeast   1634.08\n",
       "242  UO-189044287   57    male  43.70         1     no  southwest  11576.13\n",
       "246  OT-130753432   41  female  30.18         1     no  southeast   6515.36\n",
       "247  BH-153144132   50    male  36.20         0     no  southwest   8457.82"
      ]
     },
     "execution_count": 10,
     "metadata": {},
     "output_type": "execute_result"
    }
   ],
   "source": [
    "# Display the duplicat records\n",
    "HealthIns_dup"
   ]
  },
  {
   "cell_type": "code",
   "execution_count": 11,
   "id": "7f762ec4",
   "metadata": {},
   "outputs": [],
   "source": [
    "# Remove the identified duplicate records \n",
    "\n",
    "HealthIns = HealthIns.drop_duplicates()"
   ]
  },
  {
   "cell_type": "code",
   "execution_count": 12,
   "id": "80b4a953",
   "metadata": {},
   "outputs": [
    {
     "data": {
      "text/plain": [
       "(6690, 8)"
      ]
     },
     "execution_count": 12,
     "metadata": {},
     "output_type": "execute_result"
    }
   ],
   "source": [
    "# Display the shape of the dataset\n",
    "\n",
    "HealthIns.shape"
   ]
  },
  {
   "cell_type": "code",
   "execution_count": 13,
   "id": "b1da6963",
   "metadata": {},
   "outputs": [],
   "source": [
    "# Re-setting the row index\n",
    "\n",
    "HealthIns = HealthIns.reset_index(drop=True)"
   ]
  },
  {
   "cell_type": "code",
   "execution_count": 14,
   "id": "4ce61e12",
   "metadata": {},
   "outputs": [],
   "source": [
    "# Copy file to back-up file after deletion of duplicate records\n",
    "\n",
    "HealthIns_BK2 = HealthIns.copy()"
   ]
  },
  {
   "cell_type": "code",
   "execution_count": 15,
   "id": "06c212ab",
   "metadata": {},
   "outputs": [
    {
     "name": "stdout",
     "output_type": "stream",
     "text": [
      "<class 'pandas.core.frame.DataFrame'>\n",
      "RangeIndex: 6690 entries, 0 to 6689\n",
      "Data columns (total 8 columns):\n",
      " #   Column     Non-Null Count  Dtype  \n",
      "---  ------     --------------  -----  \n",
      " 0   Record_ID  6690 non-null   object \n",
      " 1   Age        6690 non-null   int64  \n",
      " 2   Gender     6690 non-null   object \n",
      " 3   BMI        6690 non-null   float64\n",
      " 4   Children   6690 non-null   int64  \n",
      " 5   Smoker     6690 non-null   object \n",
      " 6   Region     6690 non-null   object \n",
      " 7   Expenses   6690 non-null   float64\n",
      "dtypes: float64(2), int64(2), object(4)\n",
      "memory usage: 418.2+ KB\n"
     ]
    }
   ],
   "source": [
    "# Display the dataset information after delection of duplicates\n",
    "\n",
    "HealthIns.info()"
   ]
  },
  {
   "cell_type": "code",
   "execution_count": 16,
   "id": "7f213425",
   "metadata": {},
   "outputs": [
    {
     "data": {
      "text/plain": [
       "Record_ID    6690\n",
       "Age            51\n",
       "Gender          2\n",
       "BMI          2227\n",
       "Children        6\n",
       "Smoker          2\n",
       "Region          4\n",
       "Expenses     6673\n",
       "dtype: int64"
      ]
     },
     "execution_count": 16,
     "metadata": {},
     "output_type": "execute_result"
    }
   ],
   "source": [
    "# Display the unique values of the all the variables\n",
    "\n",
    "HealthIns.nunique()"
   ]
  },
  {
   "cell_type": "code",
   "execution_count": 17,
   "id": "21c9974d",
   "metadata": {},
   "outputs": [
    {
     "data": {
      "text/plain": [
       "Record_ID    0\n",
       "Age          0\n",
       "Gender       0\n",
       "BMI          0\n",
       "Children     0\n",
       "Smoker       0\n",
       "Region       0\n",
       "Expenses     0\n",
       "dtype: int64"
      ]
     },
     "execution_count": 17,
     "metadata": {},
     "output_type": "execute_result"
    }
   ],
   "source": [
    "# Display the missing values information of variables\n",
    "\n",
    "HealthIns.isnull().sum()"
   ]
  },
  {
   "cell_type": "code",
   "execution_count": 18,
   "id": "850c2143",
   "metadata": {},
   "outputs": [
    {
     "data": {
      "text/plain": [
       "male      3401\n",
       "female    3289\n",
       "Name: Gender, dtype: int64"
      ]
     },
     "execution_count": 18,
     "metadata": {},
     "output_type": "execute_result"
    }
   ],
   "source": [
    "# Display 'Gender' categorical variable \n",
    "\n",
    "HealthIns['Gender'].value_counts()"
   ]
  },
  {
   "cell_type": "code",
   "execution_count": 19,
   "id": "db86e473",
   "metadata": {},
   "outputs": [],
   "source": [
    "# Replace 'Gender' variable and convert to integer value.\n",
    "\n",
    "HealthIns['Gender'] = HealthIns['Gender'].str.replace('female', '0')\n",
    "HealthIns['Gender'] = HealthIns['Gender'].str.replace('male', '1')\n",
    "HealthIns['Gender'] = HealthIns['Gender'].astype(int)"
   ]
  },
  {
   "cell_type": "code",
   "execution_count": 20,
   "id": "8d199d45",
   "metadata": {},
   "outputs": [
    {
     "data": {
      "text/plain": [
       "no     5320\n",
       "yes    1370\n",
       "Name: Smoker, dtype: int64"
      ]
     },
     "execution_count": 20,
     "metadata": {},
     "output_type": "execute_result"
    }
   ],
   "source": [
    "# Display 'Smoker' categorical variable \n",
    "\n",
    "HealthIns['Smoker'].value_counts()"
   ]
  },
  {
   "cell_type": "code",
   "execution_count": 21,
   "id": "52444be7",
   "metadata": {},
   "outputs": [],
   "source": [
    "# Replace 'Smoker' variable and convert integer value.\n",
    "\n",
    "HealthIns['Smoker'] = HealthIns['Smoker'].str.replace('no', '0')\n",
    "HealthIns['Smoker'] = HealthIns['Smoker'].str.replace('yes', '1')\n",
    "HealthIns['Smoker'] = HealthIns['Smoker'].astype(int)"
   ]
  },
  {
   "cell_type": "code",
   "execution_count": 22,
   "id": "63fafefe",
   "metadata": {},
   "outputs": [
    {
     "data": {
      "text/plain": [
       "southeast    1820\n",
       "southwest    1625\n",
       "northwest    1625\n",
       "northeast    1620\n",
       "Name: Region, dtype: int64"
      ]
     },
     "execution_count": 22,
     "metadata": {},
     "output_type": "execute_result"
    }
   ],
   "source": [
    "# Display 'Region' categorical variable \n",
    "\n",
    "HealthIns['Region'].value_counts()"
   ]
  },
  {
   "cell_type": "code",
   "execution_count": 23,
   "id": "613eba27",
   "metadata": {},
   "outputs": [],
   "source": [
    "# Replace 'Region' variable and convert to integer value.\n",
    "\n",
    "HealthIns['Region'] = HealthIns['Region'].str.replace('northeast', '0')\n",
    "HealthIns['Region'] = HealthIns['Region'].str.replace('northwest', '1')\n",
    "HealthIns['Region'] = HealthIns['Region'].str.replace('southeast', '2')\n",
    "HealthIns['Region'] = HealthIns['Region'].str.replace('southwest', '3')\n",
    "HealthIns['Region'] = HealthIns['Region'].astype(int)"
   ]
  },
  {
   "cell_type": "code",
   "execution_count": 24,
   "id": "d51f1501",
   "metadata": {},
   "outputs": [
    {
     "name": "stdout",
     "output_type": "stream",
     "text": [
      "<class 'pandas.core.frame.DataFrame'>\n",
      "RangeIndex: 6690 entries, 0 to 6689\n",
      "Data columns (total 8 columns):\n",
      " #   Column     Non-Null Count  Dtype  \n",
      "---  ------     --------------  -----  \n",
      " 0   Record_ID  6690 non-null   object \n",
      " 1   Age        6690 non-null   int64  \n",
      " 2   Gender     6690 non-null   int32  \n",
      " 3   BMI        6690 non-null   float64\n",
      " 4   Children   6690 non-null   int64  \n",
      " 5   Smoker     6690 non-null   int32  \n",
      " 6   Region     6690 non-null   int32  \n",
      " 7   Expenses   6690 non-null   float64\n",
      "dtypes: float64(2), int32(3), int64(2), object(1)\n",
      "memory usage: 339.9+ KB\n"
     ]
    }
   ],
   "source": [
    "# Display the dataset information after transformation of data\n",
    "\n",
    "HealthIns.info()"
   ]
  },
  {
   "cell_type": "code",
   "execution_count": 25,
   "id": "18e737a8",
   "metadata": {},
   "outputs": [
    {
     "data": {
      "text/plain": [
       "Index(['Record_ID', 'Age', 'Gender', 'BMI', 'Children', 'Smoker', 'Region',\n",
       "       'Expenses'],\n",
       "      dtype='object')"
      ]
     },
     "execution_count": 25,
     "metadata": {},
     "output_type": "execute_result"
    }
   ],
   "source": [
    "# Display all the variables\n",
    "\n",
    "HealthIns.columns"
   ]
  },
  {
   "cell_type": "code",
   "execution_count": 26,
   "id": "d023ce71",
   "metadata": {},
   "outputs": [],
   "source": [
    "# Identify the variables for scaling (MinMaxScalar)\n",
    "\n",
    "cols = ['Age', 'BMI', 'Children','Region']"
   ]
  },
  {
   "cell_type": "code",
   "execution_count": 27,
   "id": "32106ea4",
   "metadata": {},
   "outputs": [],
   "source": [
    "# Delete variables which are not influencing the target variable\n",
    "\n",
    "del HealthIns['Record_ID']"
   ]
  },
  {
   "cell_type": "code",
   "execution_count": 28,
   "id": "aa768ab2",
   "metadata": {},
   "outputs": [],
   "source": [
    "# Identify the independent and Target (dependent) variables\n",
    "\n",
    "IndepVar = []\n",
    "for col in HealthIns.columns:\n",
    "    if col != 'Expenses':\n",
    "        IndepVar.append(col)\n",
    "\n",
    "TargetVar = 'Expenses'\n",
    "\n",
    "x = HealthIns[IndepVar]\n",
    "y = HealthIns[TargetVar]"
   ]
  },
  {
   "cell_type": "code",
   "execution_count": 29,
   "id": "be931975",
   "metadata": {},
   "outputs": [],
   "source": [
    "# Split the data into train and test (random sampling)\n",
    "\n",
    "from sklearn.model_selection import train_test_split \n",
    "\n",
    "x_train, x_test, y_train, y_test = train_test_split(x, y, test_size=0.3, random_state=42)"
   ]
  },
  {
   "cell_type": "code",
   "execution_count": 30,
   "id": "b5ee98ef",
   "metadata": {},
   "outputs": [
    {
     "data": {
      "text/plain": [
       "((4683, 6), (2007, 6), (4683,), (2007,))"
      ]
     },
     "execution_count": 30,
     "metadata": {},
     "output_type": "execute_result"
    }
   ],
   "source": [
    "# Display the shape for train & test data\n",
    "\n",
    "x_train.shape, x_test.shape, y_train.shape, y_test.shape"
   ]
  },
  {
   "cell_type": "code",
   "execution_count": 31,
   "id": "f07b5fb7",
   "metadata": {},
   "outputs": [],
   "source": [
    "# Scaling the features by using MinMaxScaler\n",
    "\n",
    "from sklearn.preprocessing import MinMaxScaler\n",
    "\n",
    "mmscaler = MinMaxScaler(feature_range=(0, 1))\n",
    "\n",
    "x_train[cols] = mmscaler.fit_transform(x_train[cols])\n",
    "x_train = pd.DataFrame(x_train)\n",
    "\n",
    "x_test[cols] = mmscaler.fit_transform(x_test[cols])\n",
    "x_test = pd.DataFrame(x_test)"
   ]
  },
  {
   "cell_type": "code",
   "execution_count": 32,
   "id": "9d851fe8",
   "metadata": {},
   "outputs": [],
   "source": [
    "# Train the algorithm and build the model with train dataset\n",
    "\n",
    "from sklearn.linear_model import LinearRegression\n"
   ]
  },
  {
   "cell_type": "code",
   "execution_count": 33,
   "id": "c2167bf6",
   "metadata": {},
   "outputs": [],
   "source": [
    "# Create an object for regression model\n",
    "\n",
    "ModelRGR = LinearRegression()"
   ]
  },
  {
   "cell_type": "code",
   "execution_count": 34,
   "id": "d1a22eb2",
   "metadata": {},
   "outputs": [
    {
     "data": {
      "text/html": [
       "<style>#sk-container-id-1 {color: black;background-color: white;}#sk-container-id-1 pre{padding: 0;}#sk-container-id-1 div.sk-toggleable {background-color: white;}#sk-container-id-1 label.sk-toggleable__label {cursor: pointer;display: block;width: 100%;margin-bottom: 0;padding: 0.3em;box-sizing: border-box;text-align: center;}#sk-container-id-1 label.sk-toggleable__label-arrow:before {content: \"▸\";float: left;margin-right: 0.25em;color: #696969;}#sk-container-id-1 label.sk-toggleable__label-arrow:hover:before {color: black;}#sk-container-id-1 div.sk-estimator:hover label.sk-toggleable__label-arrow:before {color: black;}#sk-container-id-1 div.sk-toggleable__content {max-height: 0;max-width: 0;overflow: hidden;text-align: left;background-color: #f0f8ff;}#sk-container-id-1 div.sk-toggleable__content pre {margin: 0.2em;color: black;border-radius: 0.25em;background-color: #f0f8ff;}#sk-container-id-1 input.sk-toggleable__control:checked~div.sk-toggleable__content {max-height: 200px;max-width: 100%;overflow: auto;}#sk-container-id-1 input.sk-toggleable__control:checked~label.sk-toggleable__label-arrow:before {content: \"▾\";}#sk-container-id-1 div.sk-estimator input.sk-toggleable__control:checked~label.sk-toggleable__label {background-color: #d4ebff;}#sk-container-id-1 div.sk-label input.sk-toggleable__control:checked~label.sk-toggleable__label {background-color: #d4ebff;}#sk-container-id-1 input.sk-hidden--visually {border: 0;clip: rect(1px 1px 1px 1px);clip: rect(1px, 1px, 1px, 1px);height: 1px;margin: -1px;overflow: hidden;padding: 0;position: absolute;width: 1px;}#sk-container-id-1 div.sk-estimator {font-family: monospace;background-color: #f0f8ff;border: 1px dotted black;border-radius: 0.25em;box-sizing: border-box;margin-bottom: 0.5em;}#sk-container-id-1 div.sk-estimator:hover {background-color: #d4ebff;}#sk-container-id-1 div.sk-parallel-item::after {content: \"\";width: 100%;border-bottom: 1px solid gray;flex-grow: 1;}#sk-container-id-1 div.sk-label:hover label.sk-toggleable__label {background-color: #d4ebff;}#sk-container-id-1 div.sk-serial::before {content: \"\";position: absolute;border-left: 1px solid gray;box-sizing: border-box;top: 0;bottom: 0;left: 50%;z-index: 0;}#sk-container-id-1 div.sk-serial {display: flex;flex-direction: column;align-items: center;background-color: white;padding-right: 0.2em;padding-left: 0.2em;position: relative;}#sk-container-id-1 div.sk-item {position: relative;z-index: 1;}#sk-container-id-1 div.sk-parallel {display: flex;align-items: stretch;justify-content: center;background-color: white;position: relative;}#sk-container-id-1 div.sk-item::before, #sk-container-id-1 div.sk-parallel-item::before {content: \"\";position: absolute;border-left: 1px solid gray;box-sizing: border-box;top: 0;bottom: 0;left: 50%;z-index: -1;}#sk-container-id-1 div.sk-parallel-item {display: flex;flex-direction: column;z-index: 1;position: relative;background-color: white;}#sk-container-id-1 div.sk-parallel-item:first-child::after {align-self: flex-end;width: 50%;}#sk-container-id-1 div.sk-parallel-item:last-child::after {align-self: flex-start;width: 50%;}#sk-container-id-1 div.sk-parallel-item:only-child::after {width: 0;}#sk-container-id-1 div.sk-dashed-wrapped {border: 1px dashed gray;margin: 0 0.4em 0.5em 0.4em;box-sizing: border-box;padding-bottom: 0.4em;background-color: white;}#sk-container-id-1 div.sk-label label {font-family: monospace;font-weight: bold;display: inline-block;line-height: 1.2em;}#sk-container-id-1 div.sk-label-container {text-align: center;}#sk-container-id-1 div.sk-container {/* jupyter's `normalize.less` sets `[hidden] { display: none; }` but bootstrap.min.css set `[hidden] { display: none !important; }` so we also need the `!important` here to be able to override the default hidden behavior on the sphinx rendered scikit-learn.org. See: https://github.com/scikit-learn/scikit-learn/issues/21755 */display: inline-block !important;position: relative;}#sk-container-id-1 div.sk-text-repr-fallback {display: none;}</style><div id=\"sk-container-id-1\" class=\"sk-top-container\"><div class=\"sk-text-repr-fallback\"><pre>LinearRegression()</pre><b>In a Jupyter environment, please rerun this cell to show the HTML representation or trust the notebook. <br />On GitHub, the HTML representation is unable to render, please try loading this page with nbviewer.org.</b></div><div class=\"sk-container\" hidden><div class=\"sk-item\"><div class=\"sk-estimator sk-toggleable\"><input class=\"sk-toggleable__control sk-hidden--visually\" id=\"sk-estimator-id-1\" type=\"checkbox\" checked><label for=\"sk-estimator-id-1\" class=\"sk-toggleable__label sk-toggleable__label-arrow\">LinearRegression</label><div class=\"sk-toggleable__content\"><pre>LinearRegression()</pre></div></div></div></div></div>"
      ],
      "text/plain": [
       "LinearRegression()"
      ]
     },
     "execution_count": 34,
     "metadata": {},
     "output_type": "execute_result"
    }
   ],
   "source": [
    "# Train the model with training dataset\n",
    "\n",
    "ModelRGR.fit(x_train, y_train)\n"
   ]
  },
  {
   "cell_type": "code",
   "execution_count": 35,
   "id": "5322951c",
   "metadata": {},
   "outputs": [],
   "source": [
    "# Predict the model with test dataset\n",
    "\n",
    "y_pred = ModelRGR.predict(x_test)"
   ]
  },
  {
   "cell_type": "code",
   "execution_count": 36,
   "id": "0548c950",
   "metadata": {},
   "outputs": [
    {
     "name": "stdout",
     "output_type": "stream",
     "text": [
      "Mean Absolute Error (MAE): 4263.032\n",
      "Mean Squared Error (MSE): 36555289.434\n",
      "Root Mean Squared Error (RMSE): 6046.097\n",
      "R2_score: 0.757411\n",
      "Root Mean Squared Log Error (RMSLE): 8.707\n"
     ]
    }
   ],
   "source": [
    "# Evaluation metrics for Regression analysis\n",
    "\n",
    "from sklearn import metrics\n",
    "\n",
    "print('Mean Absolute Error (MAE):', round(metrics.mean_absolute_error(y_test, y_pred),3))  \n",
    "print('Mean Squared Error (MSE):', round(metrics.mean_squared_error(y_test, y_pred),3))  \n",
    "print('Root Mean Squared Error (RMSE):', round(np.sqrt(metrics.mean_squared_error(y_test, y_pred)),3))\n",
    "print('R2_score:', round(metrics.r2_score(y_test, y_pred),6))\n",
    "print('Root Mean Squared Log Error (RMSLE):', round(np.log(np.sqrt(metrics.mean_squared_error(y_test, y_pred))),3))"
   ]
  },
  {
   "cell_type": "code",
   "execution_count": 37,
   "id": "79f87fe1",
   "metadata": {},
   "outputs": [],
   "source": [
    "# Define the function to calculate the MAPE - Mean Absolute Percentage Error\n",
    "\n",
    "def MAPE (y_test, y_pred): \n",
    "    y_test, y_pred = np.array(y_test), np.array(y_pred)\n",
    "    return np.mean(np.abs((y_test - y_pred) / y_test)) * 100\n"
   ]
  },
  {
   "cell_type": "code",
   "execution_count": 38,
   "id": "5dbd967c",
   "metadata": {},
   "outputs": [
    {
     "name": "stdout",
     "output_type": "stream",
     "text": [
      "Mean Absolute Percentage Error (MAPE): 44.906 %\n"
     ]
    }
   ],
   "source": [
    "# Evaluation of MAPE \n",
    "\n",
    "result = MAPE(y_test, y_pred)\n",
    "print('Mean Absolute Percentage Error (MAPE):', round(result, 3), '%')"
   ]
  },
  {
   "cell_type": "code",
   "execution_count": 39,
   "id": "32557e36",
   "metadata": {},
   "outputs": [
    {
     "name": "stdout",
     "output_type": "stream",
     "text": [
      "Adj R Square:  0.757193\n"
     ]
    }
   ],
   "source": [
    "# Calculate Adjusted R squared values \n",
    "\n",
    "r_squared = round(metrics.r2_score(y_test, y_pred),6)\n",
    "adjusted_r_squared = round(1 - (1-r_squared)*(len(y)-1)/(len(y)-x.shape[1]-1),6)\n",
    "print('Adj R Square: ', adjusted_r_squared)"
   ]
  },
  {
   "cell_type": "code",
   "execution_count": 40,
   "id": "b11f355c",
   "metadata": {},
   "outputs": [],
   "source": [
    "# Display the Final results \n",
    "\n",
    "Results = pd.DataFrame({'Expenses_A':y_test, 'Expenses_P':y_pred})\n",
    "\n",
    "# Merge two Dataframes on index of both the dataframes\n",
    "\n",
    "ResultsFinal = HealthIns_BK2.merge(Results, left_index=True, right_index=True)"
   ]
  },
  {
   "cell_type": "code",
   "execution_count": 41,
   "id": "41f1845e",
   "metadata": {},
   "outputs": [
    {
     "data": {
      "text/html": [
       "<div>\n",
       "<style scoped>\n",
       "    .dataframe tbody tr th:only-of-type {\n",
       "        vertical-align: middle;\n",
       "    }\n",
       "\n",
       "    .dataframe tbody tr th {\n",
       "        vertical-align: top;\n",
       "    }\n",
       "\n",
       "    .dataframe thead th {\n",
       "        text-align: right;\n",
       "    }\n",
       "</style>\n",
       "<table border=\"1\" class=\"dataframe\">\n",
       "  <thead>\n",
       "    <tr style=\"text-align: right;\">\n",
       "      <th></th>\n",
       "      <th>Record_ID</th>\n",
       "      <th>Age</th>\n",
       "      <th>Gender</th>\n",
       "      <th>BMI</th>\n",
       "      <th>Children</th>\n",
       "      <th>Smoker</th>\n",
       "      <th>Region</th>\n",
       "      <th>Expenses</th>\n",
       "      <th>Expenses_A</th>\n",
       "      <th>Expenses_P</th>\n",
       "    </tr>\n",
       "  </thead>\n",
       "  <tbody>\n",
       "    <tr>\n",
       "      <th>4739</th>\n",
       "      <td>KV-180707302</td>\n",
       "      <td>58</td>\n",
       "      <td>female</td>\n",
       "      <td>20.50</td>\n",
       "      <td>1</td>\n",
       "      <td>no</td>\n",
       "      <td>southwest</td>\n",
       "      <td>12051.27</td>\n",
       "      <td>12051.27</td>\n",
       "      <td>8488.146866</td>\n",
       "    </tr>\n",
       "    <tr>\n",
       "      <th>2348</th>\n",
       "      <td>XX-181378382</td>\n",
       "      <td>31</td>\n",
       "      <td>male</td>\n",
       "      <td>23.51</td>\n",
       "      <td>0</td>\n",
       "      <td>yes</td>\n",
       "      <td>northeast</td>\n",
       "      <td>16145.04</td>\n",
       "      <td>16145.04</td>\n",
       "      <td>26513.057525</td>\n",
       "    </tr>\n",
       "    <tr>\n",
       "      <th>4129</th>\n",
       "      <td>WW-190551843</td>\n",
       "      <td>45</td>\n",
       "      <td>male</td>\n",
       "      <td>38.87</td>\n",
       "      <td>2</td>\n",
       "      <td>yes</td>\n",
       "      <td>southeast</td>\n",
       "      <td>42565.81</td>\n",
       "      <td>42565.81</td>\n",
       "      <td>35694.621061</td>\n",
       "    </tr>\n",
       "    <tr>\n",
       "      <th>782</th>\n",
       "      <td>VG-156562453</td>\n",
       "      <td>24</td>\n",
       "      <td>male</td>\n",
       "      <td>34.92</td>\n",
       "      <td>0</td>\n",
       "      <td>no</td>\n",
       "      <td>southwest</td>\n",
       "      <td>1840.11</td>\n",
       "      <td>1840.11</td>\n",
       "      <td>4200.614520</td>\n",
       "    </tr>\n",
       "    <tr>\n",
       "      <th>794</th>\n",
       "      <td>FS-156379918</td>\n",
       "      <td>19</td>\n",
       "      <td>female</td>\n",
       "      <td>41.05</td>\n",
       "      <td>0</td>\n",
       "      <td>no</td>\n",
       "      <td>northeast</td>\n",
       "      <td>2231.49</td>\n",
       "      <td>2231.49</td>\n",
       "      <td>6400.424081</td>\n",
       "    </tr>\n",
       "    <tr>\n",
       "      <th>2310</th>\n",
       "      <td>GJ-152756916</td>\n",
       "      <td>22</td>\n",
       "      <td>male</td>\n",
       "      <td>26.63</td>\n",
       "      <td>0</td>\n",
       "      <td>no</td>\n",
       "      <td>northeast</td>\n",
       "      <td>1719.42</td>\n",
       "      <td>1719.42</td>\n",
       "      <td>1839.806508</td>\n",
       "    </tr>\n",
       "    <tr>\n",
       "      <th>4046</th>\n",
       "      <td>MJ-173510251</td>\n",
       "      <td>21</td>\n",
       "      <td>male</td>\n",
       "      <td>28.27</td>\n",
       "      <td>0</td>\n",
       "      <td>yes</td>\n",
       "      <td>southwest</td>\n",
       "      <td>16305.38</td>\n",
       "      <td>16305.38</td>\n",
       "      <td>24662.783660</td>\n",
       "    </tr>\n",
       "    <tr>\n",
       "      <th>323</th>\n",
       "      <td>CW-178032497</td>\n",
       "      <td>34</td>\n",
       "      <td>male</td>\n",
       "      <td>30.66</td>\n",
       "      <td>0</td>\n",
       "      <td>no</td>\n",
       "      <td>southeast</td>\n",
       "      <td>3714.81</td>\n",
       "      <td>3714.81</td>\n",
       "      <td>5549.284831</td>\n",
       "    </tr>\n",
       "    <tr>\n",
       "      <th>6289</th>\n",
       "      <td>BN-169779415</td>\n",
       "      <td>42</td>\n",
       "      <td>male</td>\n",
       "      <td>22.39</td>\n",
       "      <td>1</td>\n",
       "      <td>no</td>\n",
       "      <td>northwest</td>\n",
       "      <td>6127.94</td>\n",
       "      <td>6127.94</td>\n",
       "      <td>5531.320000</td>\n",
       "    </tr>\n",
       "    <tr>\n",
       "      <th>2588</th>\n",
       "      <td>JJ-138255632</td>\n",
       "      <td>57</td>\n",
       "      <td>male</td>\n",
       "      <td>28.21</td>\n",
       "      <td>0</td>\n",
       "      <td>no</td>\n",
       "      <td>northwest</td>\n",
       "      <td>10602.36</td>\n",
       "      <td>10602.36</td>\n",
       "      <td>10761.294421</td>\n",
       "    </tr>\n",
       "  </tbody>\n",
       "</table>\n",
       "</div>"
      ],
      "text/plain": [
       "         Record_ID  Age  Gender    BMI  Children Smoker     Region  Expenses  \\\n",
       "4739  KV-180707302   58  female  20.50         1     no  southwest  12051.27   \n",
       "2348  XX-181378382   31    male  23.51         0    yes  northeast  16145.04   \n",
       "4129  WW-190551843   45    male  38.87         2    yes  southeast  42565.81   \n",
       "782   VG-156562453   24    male  34.92         0     no  southwest   1840.11   \n",
       "794   FS-156379918   19  female  41.05         0     no  northeast   2231.49   \n",
       "2310  GJ-152756916   22    male  26.63         0     no  northeast   1719.42   \n",
       "4046  MJ-173510251   21    male  28.27         0    yes  southwest  16305.38   \n",
       "323   CW-178032497   34    male  30.66         0     no  southeast   3714.81   \n",
       "6289  BN-169779415   42    male  22.39         1     no  northwest   6127.94   \n",
       "2588  JJ-138255632   57    male  28.21         0     no  northwest  10602.36   \n",
       "\n",
       "      Expenses_A    Expenses_P  \n",
       "4739    12051.27   8488.146866  \n",
       "2348    16145.04  26513.057525  \n",
       "4129    42565.81  35694.621061  \n",
       "782      1840.11   4200.614520  \n",
       "794      2231.49   6400.424081  \n",
       "2310     1719.42   1839.806508  \n",
       "4046    16305.38  24662.783660  \n",
       "323      3714.81   5549.284831  \n",
       "6289     6127.94   5531.320000  \n",
       "2588    10602.36  10761.294421  "
      ]
     },
     "execution_count": 41,
     "metadata": {},
     "output_type": "execute_result"
    }
   ],
   "source": [
    "# Display 10 records randomly\n",
    "\n",
    "ResultsFinal.sample(10)"
   ]
  },
  {
   "cell_type": "code",
   "execution_count": 42,
   "id": "605c2aa7",
   "metadata": {},
   "outputs": [
    {
     "data": {
      "text/html": [
       "<div>\n",
       "<style scoped>\n",
       "    .dataframe tbody tr th:only-of-type {\n",
       "        vertical-align: middle;\n",
       "    }\n",
       "\n",
       "    .dataframe tbody tr th {\n",
       "        vertical-align: top;\n",
       "    }\n",
       "\n",
       "    .dataframe thead th {\n",
       "        text-align: right;\n",
       "    }\n",
       "</style>\n",
       "<table border=\"1\" class=\"dataframe\">\n",
       "  <thead>\n",
       "    <tr style=\"text-align: right;\">\n",
       "      <th></th>\n",
       "      <th>Record_ID</th>\n",
       "      <th>Age</th>\n",
       "      <th>Gender</th>\n",
       "      <th>BMI</th>\n",
       "      <th>Children</th>\n",
       "      <th>Smoker</th>\n",
       "      <th>Region</th>\n",
       "      <th>Expenses</th>\n",
       "      <th>Expenses_P</th>\n",
       "    </tr>\n",
       "  </thead>\n",
       "  <tbody>\n",
       "    <tr>\n",
       "      <th>5438</th>\n",
       "      <td>XC-176939425</td>\n",
       "      <td>60</td>\n",
       "      <td>female</td>\n",
       "      <td>35.10</td>\n",
       "      <td>0</td>\n",
       "      <td>no</td>\n",
       "      <td>southwest</td>\n",
       "      <td>12644.59</td>\n",
       "      <td>13528.198906</td>\n",
       "    </tr>\n",
       "    <tr>\n",
       "      <th>4480</th>\n",
       "      <td>IP-182516496</td>\n",
       "      <td>42</td>\n",
       "      <td>male</td>\n",
       "      <td>36.00</td>\n",
       "      <td>2</td>\n",
       "      <td>no</td>\n",
       "      <td>southeast</td>\n",
       "      <td>7160.33</td>\n",
       "      <td>10436.887559</td>\n",
       "    </tr>\n",
       "    <tr>\n",
       "      <th>79</th>\n",
       "      <td>SY-193783633</td>\n",
       "      <td>46</td>\n",
       "      <td>female</td>\n",
       "      <td>30.55</td>\n",
       "      <td>2</td>\n",
       "      <td>no</td>\n",
       "      <td>southeast</td>\n",
       "      <td>8230.16</td>\n",
       "      <td>9847.267825</td>\n",
       "    </tr>\n",
       "    <tr>\n",
       "      <th>3065</th>\n",
       "      <td>QW-182137684</td>\n",
       "      <td>42</td>\n",
       "      <td>male</td>\n",
       "      <td>35.80</td>\n",
       "      <td>2</td>\n",
       "      <td>no</td>\n",
       "      <td>southwest</td>\n",
       "      <td>7160.09</td>\n",
       "      <td>10029.991580</td>\n",
       "    </tr>\n",
       "    <tr>\n",
       "      <th>319</th>\n",
       "      <td>TX-188453169</td>\n",
       "      <td>19</td>\n",
       "      <td>male</td>\n",
       "      <td>25.61</td>\n",
       "      <td>0</td>\n",
       "      <td>no</td>\n",
       "      <td>northeast</td>\n",
       "      <td>2210.60</td>\n",
       "      <td>739.340587</td>\n",
       "    </tr>\n",
       "    <tr>\n",
       "      <th>3720</th>\n",
       "      <td>MH-145749953</td>\n",
       "      <td>59</td>\n",
       "      <td>female</td>\n",
       "      <td>26.05</td>\n",
       "      <td>3</td>\n",
       "      <td>no</td>\n",
       "      <td>northeast</td>\n",
       "      <td>13065.13</td>\n",
       "      <td>12718.966971</td>\n",
       "    </tr>\n",
       "    <tr>\n",
       "      <th>1599</th>\n",
       "      <td>VJ-130283744</td>\n",
       "      <td>52</td>\n",
       "      <td>female</td>\n",
       "      <td>37.20</td>\n",
       "      <td>3</td>\n",
       "      <td>no</td>\n",
       "      <td>southeast</td>\n",
       "      <td>10400.77</td>\n",
       "      <td>14169.403954</td>\n",
       "    </tr>\n",
       "    <tr>\n",
       "      <th>1305</th>\n",
       "      <td>MP-148958841</td>\n",
       "      <td>20</td>\n",
       "      <td>male</td>\n",
       "      <td>43.51</td>\n",
       "      <td>0</td>\n",
       "      <td>no</td>\n",
       "      <td>southeast</td>\n",
       "      <td>1167.51</td>\n",
       "      <td>6522.263660</td>\n",
       "    </tr>\n",
       "    <tr>\n",
       "      <th>5948</th>\n",
       "      <td>YF-181438723</td>\n",
       "      <td>25</td>\n",
       "      <td>female</td>\n",
       "      <td>36.50</td>\n",
       "      <td>0</td>\n",
       "      <td>no</td>\n",
       "      <td>northwest</td>\n",
       "      <td>2424.70</td>\n",
       "      <td>5977.922267</td>\n",
       "    </tr>\n",
       "    <tr>\n",
       "      <th>469</th>\n",
       "      <td>OD-128173631</td>\n",
       "      <td>33</td>\n",
       "      <td>female</td>\n",
       "      <td>31.61</td>\n",
       "      <td>3</td>\n",
       "      <td>no</td>\n",
       "      <td>southwest</td>\n",
       "      <td>5334.71</td>\n",
       "      <td>7164.047805</td>\n",
       "    </tr>\n",
       "  </tbody>\n",
       "</table>\n",
       "</div>"
      ],
      "text/plain": [
       "         Record_ID  Age  Gender    BMI  Children Smoker     Region  Expenses  \\\n",
       "5438  XC-176939425   60  female  35.10         0     no  southwest  12644.59   \n",
       "4480  IP-182516496   42    male  36.00         2     no  southeast   7160.33   \n",
       "79    SY-193783633   46  female  30.55         2     no  southeast   8230.16   \n",
       "3065  QW-182137684   42    male  35.80         2     no  southwest   7160.09   \n",
       "319   TX-188453169   19    male  25.61         0     no  northeast   2210.60   \n",
       "3720  MH-145749953   59  female  26.05         3     no  northeast  13065.13   \n",
       "1599  VJ-130283744   52  female  37.20         3     no  southeast  10400.77   \n",
       "1305  MP-148958841   20    male  43.51         0     no  southeast   1167.51   \n",
       "5948  YF-181438723   25  female  36.50         0     no  northwest   2424.70   \n",
       "469   OD-128173631   33  female  31.61         3     no  southwest   5334.71   \n",
       "\n",
       "        Expenses_P  \n",
       "5438  13528.198906  \n",
       "4480  10436.887559  \n",
       "79     9847.267825  \n",
       "3065  10029.991580  \n",
       "319     739.340587  \n",
       "3720  12718.966971  \n",
       "1599  14169.403954  \n",
       "1305   6522.263660  \n",
       "5948   5977.922267  \n",
       "469    7164.047805  "
      ]
     },
     "execution_count": 42,
     "metadata": {},
     "output_type": "execute_result"
    }
   ],
   "source": [
    "del ResultsFinal['Expenses_A']\n",
    "\n",
    "ResultsFinal.sample(10)"
   ]
  },
  {
   "cell_type": "code",
   "execution_count": 43,
   "id": "c60163f7",
   "metadata": {},
   "outputs": [
    {
     "data": {
      "text/html": [
       "<div>\n",
       "<style scoped>\n",
       "    .dataframe tbody tr th:only-of-type {\n",
       "        vertical-align: middle;\n",
       "    }\n",
       "\n",
       "    .dataframe tbody tr th {\n",
       "        vertical-align: top;\n",
       "    }\n",
       "\n",
       "    .dataframe thead th {\n",
       "        text-align: right;\n",
       "    }\n",
       "</style>\n",
       "<table border=\"1\" class=\"dataframe\">\n",
       "  <thead>\n",
       "    <tr style=\"text-align: right;\">\n",
       "      <th></th>\n",
       "      <th>Record_ID</th>\n",
       "      <th>Age</th>\n",
       "      <th>Gender</th>\n",
       "      <th>BMI</th>\n",
       "      <th>Children</th>\n",
       "      <th>Smoker</th>\n",
       "      <th>Region</th>\n",
       "      <th>Expenses</th>\n",
       "    </tr>\n",
       "  </thead>\n",
       "  <tbody>\n",
       "    <tr>\n",
       "      <th>0</th>\n",
       "      <td>QK-136276906</td>\n",
       "      <td>43</td>\n",
       "      <td>male</td>\n",
       "      <td>36.25</td>\n",
       "      <td>1</td>\n",
       "      <td>yes</td>\n",
       "      <td>southeast</td>\n",
       "      <td>40293.04</td>\n",
       "    </tr>\n",
       "    <tr>\n",
       "      <th>1</th>\n",
       "      <td>NR-126120553</td>\n",
       "      <td>40</td>\n",
       "      <td>male</td>\n",
       "      <td>34.56</td>\n",
       "      <td>2</td>\n",
       "      <td>no</td>\n",
       "      <td>southeast</td>\n",
       "      <td>23569.63</td>\n",
       "    </tr>\n",
       "    <tr>\n",
       "      <th>2</th>\n",
       "      <td>HY-182936067</td>\n",
       "      <td>48</td>\n",
       "      <td>male</td>\n",
       "      <td>26.04</td>\n",
       "      <td>5</td>\n",
       "      <td>no</td>\n",
       "      <td>southwest</td>\n",
       "      <td>10115.35</td>\n",
       "    </tr>\n",
       "    <tr>\n",
       "      <th>3</th>\n",
       "      <td>HF-142445422</td>\n",
       "      <td>50</td>\n",
       "      <td>male</td>\n",
       "      <td>31.09</td>\n",
       "      <td>3</td>\n",
       "      <td>yes</td>\n",
       "      <td>northwest</td>\n",
       "      <td>40736.57</td>\n",
       "    </tr>\n",
       "    <tr>\n",
       "      <th>4</th>\n",
       "      <td>NM-183693148</td>\n",
       "      <td>42</td>\n",
       "      <td>male</td>\n",
       "      <td>33.04</td>\n",
       "      <td>1</td>\n",
       "      <td>yes</td>\n",
       "      <td>northeast</td>\n",
       "      <td>39144.85</td>\n",
       "    </tr>\n",
       "  </tbody>\n",
       "</table>\n",
       "</div>"
      ],
      "text/plain": [
       "      Record_ID  Age Gender    BMI  Children Smoker     Region  Expenses\n",
       "0  QK-136276906   43   male  36.25         1    yes  southeast  40293.04\n",
       "1  NR-126120553   40   male  34.56         2     no  southeast  23569.63\n",
       "2  HY-182936067   48   male  26.04         5     no  southwest  10115.35\n",
       "3  HF-142445422   50   male  31.09         3    yes  northwest  40736.57\n",
       "4  NM-183693148   42   male  33.04         1    yes  northeast  39144.85"
      ]
     },
     "execution_count": 43,
     "metadata": {},
     "output_type": "execute_result"
    }
   ],
   "source": [
    "# Display the back-up file for sql queries\n",
    "\n",
    "HealthIns_BK2.head()"
   ]
  },
  {
   "cell_type": "code",
   "execution_count": 44,
   "id": "5505be1d",
   "metadata": {},
   "outputs": [
    {
     "data": {
      "text/html": [
       "<div>\n",
       "<style scoped>\n",
       "    .dataframe tbody tr th:only-of-type {\n",
       "        vertical-align: middle;\n",
       "    }\n",
       "\n",
       "    .dataframe tbody tr th {\n",
       "        vertical-align: top;\n",
       "    }\n",
       "\n",
       "    .dataframe thead th {\n",
       "        text-align: right;\n",
       "    }\n",
       "</style>\n",
       "<table border=\"1\" class=\"dataframe\">\n",
       "  <thead>\n",
       "    <tr style=\"text-align: right;\">\n",
       "      <th></th>\n",
       "      <th>Record_ID</th>\n",
       "      <th>Age</th>\n",
       "      <th>Gender</th>\n",
       "      <th>BMI</th>\n",
       "      <th>Children</th>\n",
       "      <th>Smoker</th>\n",
       "      <th>Region</th>\n",
       "      <th>Expenses</th>\n",
       "    </tr>\n",
       "  </thead>\n",
       "  <tbody>\n",
       "    <tr>\n",
       "      <th>0</th>\n",
       "      <td>NR-126120553</td>\n",
       "      <td>40</td>\n",
       "      <td>male</td>\n",
       "      <td>34.56</td>\n",
       "      <td>2</td>\n",
       "      <td>no</td>\n",
       "      <td>southeast</td>\n",
       "      <td>23569.63</td>\n",
       "    </tr>\n",
       "    <tr>\n",
       "      <th>1</th>\n",
       "      <td>KP-155614235</td>\n",
       "      <td>47</td>\n",
       "      <td>male</td>\n",
       "      <td>24.53</td>\n",
       "      <td>2</td>\n",
       "      <td>no</td>\n",
       "      <td>northeast</td>\n",
       "      <td>8615.27</td>\n",
       "    </tr>\n",
       "    <tr>\n",
       "      <th>2</th>\n",
       "      <td>GI-187366806</td>\n",
       "      <td>41</td>\n",
       "      <td>male</td>\n",
       "      <td>37.10</td>\n",
       "      <td>2</td>\n",
       "      <td>no</td>\n",
       "      <td>northwest</td>\n",
       "      <td>7265.70</td>\n",
       "    </tr>\n",
       "    <tr>\n",
       "      <th>3</th>\n",
       "      <td>UP-152769595</td>\n",
       "      <td>43</td>\n",
       "      <td>male</td>\n",
       "      <td>36.11</td>\n",
       "      <td>2</td>\n",
       "      <td>no</td>\n",
       "      <td>southwest</td>\n",
       "      <td>7167.25</td>\n",
       "    </tr>\n",
       "    <tr>\n",
       "      <th>4</th>\n",
       "      <td>XJ-145033802</td>\n",
       "      <td>30</td>\n",
       "      <td>male</td>\n",
       "      <td>33.42</td>\n",
       "      <td>2</td>\n",
       "      <td>no</td>\n",
       "      <td>southeast</td>\n",
       "      <td>4352.10</td>\n",
       "    </tr>\n",
       "  </tbody>\n",
       "</table>\n",
       "</div>"
      ],
      "text/plain": [
       "      Record_ID  Age Gender    BMI  Children Smoker     Region  Expenses\n",
       "0  NR-126120553   40   male  34.56         2     no  southeast  23569.63\n",
       "1  KP-155614235   47   male  24.53         2     no  northeast   8615.27\n",
       "2  GI-187366806   41   male  37.10         2     no  northwest   7265.70\n",
       "3  UP-152769595   43   male  36.11         2     no  southwest   7167.25\n",
       "4  XJ-145033802   30   male  33.42         2     no  southeast   4352.10"
      ]
     },
     "execution_count": 44,
     "metadata": {},
     "output_type": "execute_result"
    }
   ],
   "source": [
    "Data_QP_New01 = psql.sqldf(\"select * \\\n",
    "                           from HealthIns_BK2 \\\n",
    "                           where Age > 25 \\\n",
    "                           and Gender = 'male'\\\n",
    "                           and Children = 2 \\\n",
    "                           \")\n",
    "                           \n",
    "Data_QP_New01.head()"
   ]
  },
  {
   "cell_type": "code",
   "execution_count": 45,
   "id": "a5ac8e51",
   "metadata": {},
   "outputs": [
    {
     "data": {
      "text/html": [
       "<div>\n",
       "<style scoped>\n",
       "    .dataframe tbody tr th:only-of-type {\n",
       "        vertical-align: middle;\n",
       "    }\n",
       "\n",
       "    .dataframe tbody tr th {\n",
       "        vertical-align: top;\n",
       "    }\n",
       "\n",
       "    .dataframe thead th {\n",
       "        text-align: right;\n",
       "    }\n",
       "</style>\n",
       "<table border=\"1\" class=\"dataframe\">\n",
       "  <thead>\n",
       "    <tr style=\"text-align: right;\">\n",
       "      <th></th>\n",
       "      <th>Record_ID</th>\n",
       "      <th>Age</th>\n",
       "      <th>Gender</th>\n",
       "      <th>BMI</th>\n",
       "      <th>Children</th>\n",
       "      <th>Smoker</th>\n",
       "      <th>Region</th>\n",
       "      <th>Expenses</th>\n",
       "    </tr>\n",
       "  </thead>\n",
       "  <tbody>\n",
       "    <tr>\n",
       "      <th>0</th>\n",
       "      <td>SE-170186154</td>\n",
       "      <td>20</td>\n",
       "      <td>female</td>\n",
       "      <td>31.09</td>\n",
       "      <td>0</td>\n",
       "      <td>no</td>\n",
       "      <td>northeast</td>\n",
       "      <td>2208.78</td>\n",
       "    </tr>\n",
       "    <tr>\n",
       "      <th>1</th>\n",
       "      <td>IQ-164486547</td>\n",
       "      <td>23</td>\n",
       "      <td>female</td>\n",
       "      <td>18.38</td>\n",
       "      <td>0</td>\n",
       "      <td>no</td>\n",
       "      <td>southwest</td>\n",
       "      <td>1744.52</td>\n",
       "    </tr>\n",
       "    <tr>\n",
       "      <th>2</th>\n",
       "      <td>VX-191681772</td>\n",
       "      <td>21</td>\n",
       "      <td>female</td>\n",
       "      <td>28.65</td>\n",
       "      <td>1</td>\n",
       "      <td>no</td>\n",
       "      <td>southwest</td>\n",
       "      <td>2351.29</td>\n",
       "    </tr>\n",
       "    <tr>\n",
       "      <th>3</th>\n",
       "      <td>RI-163318807</td>\n",
       "      <td>24</td>\n",
       "      <td>female</td>\n",
       "      <td>36.19</td>\n",
       "      <td>0</td>\n",
       "      <td>no</td>\n",
       "      <td>northwest</td>\n",
       "      <td>2411.45</td>\n",
       "    </tr>\n",
       "    <tr>\n",
       "      <th>4</th>\n",
       "      <td>QZ-134808507</td>\n",
       "      <td>19</td>\n",
       "      <td>female</td>\n",
       "      <td>29.80</td>\n",
       "      <td>0</td>\n",
       "      <td>no</td>\n",
       "      <td>southwest</td>\n",
       "      <td>1744.47</td>\n",
       "    </tr>\n",
       "  </tbody>\n",
       "</table>\n",
       "</div>"
      ],
      "text/plain": [
       "      Record_ID  Age  Gender    BMI  Children Smoker     Region  Expenses\n",
       "0  SE-170186154   20  female  31.09         0     no  northeast   2208.78\n",
       "1  IQ-164486547   23  female  18.38         0     no  southwest   1744.52\n",
       "2  VX-191681772   21  female  28.65         1     no  southwest   2351.29\n",
       "3  RI-163318807   24  female  36.19         0     no  northwest   2411.45\n",
       "4  QZ-134808507   19  female  29.80         0     no  southwest   1744.47"
      ]
     },
     "execution_count": 45,
     "metadata": {},
     "output_type": "execute_result"
    }
   ],
   "source": [
    "Data_QP_New02 = psql.sqldf(\"select * \\\n",
    "                           from HealthIns_BK2 \\\n",
    "                           where Age < 25 \\\n",
    "                           and Gender = 'female' \\\n",
    "                           \")\n",
    "                           \n",
    "Data_QP_New02.head()"
   ]
  },
  {
   "cell_type": "code",
   "execution_count": null,
   "id": "5272dda9",
   "metadata": {},
   "outputs": [],
   "source": []
  }
 ],
 "metadata": {
  "kernelspec": {
   "display_name": "Python 3 (ipykernel)",
   "language": "python",
   "name": "python3"
  },
  "language_info": {
   "codemirror_mode": {
    "name": "ipython",
    "version": 3
   },
   "file_extension": ".py",
   "mimetype": "text/x-python",
   "name": "python",
   "nbconvert_exporter": "python",
   "pygments_lexer": "ipython3",
   "version": "3.9.12"
  }
 },
 "nbformat": 4,
 "nbformat_minor": 5
}
